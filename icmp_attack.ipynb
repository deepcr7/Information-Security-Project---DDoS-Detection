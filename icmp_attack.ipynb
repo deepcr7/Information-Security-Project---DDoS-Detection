{
 "cells": [
  {
   "cell_type": "markdown",
   "metadata": {},
   "source": [
    "## Course Code: ***CSE3502***\n",
    "## Course: ***Information Security Management***\n",
    "# Title: ***Detection of Various Types of DDoS Attacks Using Machine Learning***\n",
    "## Name: ***Deepesh Suranjandass***\n",
    "## REGNO: ***19BCE2210***\n",
    "## Name: ***Aaron Niju John***\n",
    "## REGNO: ***19BCE0616***\n",
    "## Faculty: ***Dr. Anil Kumar K***\n",
    "## Slot: ***F1***"
   ]
  },
  {
   "cell_type": "code",
   "execution_count": 1,
   "metadata": {},
   "outputs": [],
   "source": [
    "#ICMP ATTACK ANALYSIS ISM PROJECT\n",
    "import numpy as np\n",
    "import seaborn as sns\n",
    "import pandas as pd\n",
    "import matplotlib.pyplot as plt"
   ]
  },
  {
   "cell_type": "code",
   "execution_count": 2,
   "metadata": {},
   "outputs": [],
   "source": [
    "colnames = [\"duration\",\"protocol_type\",\"service\",\"flag\",\"src_bytes\",\"dst_bytes\",\"land\",\"wrong_fragment\",\"urgent\",\"hot\",\"num_failed_logins\",\"logged_in\",\"num_compromised\",\"root_shell\",\"su_attempted\",\"num_root\",\"num_file_creations\",\"num_shells\",\"num_access_files\",\"num_outbound_cmds\",\"is_host_login\",\"is_guest_login\",\"count\",\"srv_count\",\"serror_rate\",\"srv_serror_rate\",\"same_srv_rate\",\"diff_srv_rate\",\"srv_diff_host_rate\",\"una1\",\"una2\",\"dst_host_count\",\"dst_host_srv_count\",\"dst_host_same_srv_rate\",\"dst_host_diff_srv_rate\",\"dst_host_same_src_port_rate\",\"dst_host_srv_diff_host_rate\",\"dst_host_serror_rate\",\"dst_host_srv_serror_rate\",\"dst_host_rerror_rate\",\"dst_host_srv_rerror_rate\",\"result\"]"
   ]
  },
  {
   "cell_type": "code",
   "execution_count": 3,
   "metadata": {},
   "outputs": [
    {
     "data": {
      "text/plain": [
       "42"
      ]
     },
     "execution_count": 3,
     "metadata": {},
     "output_type": "execute_result"
    }
   ],
   "source": [
    "len(colnames)"
   ]
  },
  {
   "cell_type": "code",
   "execution_count": 4,
   "metadata": {},
   "outputs": [],
   "source": [
    "df = pd.read_csv(\"C:/Users/aaron/Downloads/ISM/dataset/corrected.csv\",header=None,names=colnames)"
   ]
  },
  {
   "cell_type": "code",
   "execution_count": 5,
   "metadata": {},
   "outputs": [
    {
     "data": {
      "text/html": [
       "<div>\n",
       "<style scoped>\n",
       "    .dataframe tbody tr th:only-of-type {\n",
       "        vertical-align: middle;\n",
       "    }\n",
       "\n",
       "    .dataframe tbody tr th {\n",
       "        vertical-align: top;\n",
       "    }\n",
       "\n",
       "    .dataframe thead th {\n",
       "        text-align: right;\n",
       "    }\n",
       "</style>\n",
       "<table border=\"1\" class=\"dataframe\">\n",
       "  <thead>\n",
       "    <tr style=\"text-align: right;\">\n",
       "      <th></th>\n",
       "      <th>duration</th>\n",
       "      <th>protocol_type</th>\n",
       "      <th>service</th>\n",
       "      <th>flag</th>\n",
       "      <th>src_bytes</th>\n",
       "      <th>dst_bytes</th>\n",
       "      <th>land</th>\n",
       "      <th>wrong_fragment</th>\n",
       "      <th>urgent</th>\n",
       "      <th>hot</th>\n",
       "      <th>...</th>\n",
       "      <th>dst_host_srv_count</th>\n",
       "      <th>dst_host_same_srv_rate</th>\n",
       "      <th>dst_host_diff_srv_rate</th>\n",
       "      <th>dst_host_same_src_port_rate</th>\n",
       "      <th>dst_host_srv_diff_host_rate</th>\n",
       "      <th>dst_host_serror_rate</th>\n",
       "      <th>dst_host_srv_serror_rate</th>\n",
       "      <th>dst_host_rerror_rate</th>\n",
       "      <th>dst_host_srv_rerror_rate</th>\n",
       "      <th>result</th>\n",
       "    </tr>\n",
       "  </thead>\n",
       "  <tbody>\n",
       "    <tr>\n",
       "      <th>0</th>\n",
       "      <td>0</td>\n",
       "      <td>udp</td>\n",
       "      <td>private</td>\n",
       "      <td>SF</td>\n",
       "      <td>105</td>\n",
       "      <td>146</td>\n",
       "      <td>0</td>\n",
       "      <td>0</td>\n",
       "      <td>0</td>\n",
       "      <td>0</td>\n",
       "      <td>...</td>\n",
       "      <td>254</td>\n",
       "      <td>1.0</td>\n",
       "      <td>0.01</td>\n",
       "      <td>0.00</td>\n",
       "      <td>0.0</td>\n",
       "      <td>0.0</td>\n",
       "      <td>0.0</td>\n",
       "      <td>0.0</td>\n",
       "      <td>0.0</td>\n",
       "      <td>normal.</td>\n",
       "    </tr>\n",
       "    <tr>\n",
       "      <th>1</th>\n",
       "      <td>0</td>\n",
       "      <td>udp</td>\n",
       "      <td>private</td>\n",
       "      <td>SF</td>\n",
       "      <td>105</td>\n",
       "      <td>146</td>\n",
       "      <td>0</td>\n",
       "      <td>0</td>\n",
       "      <td>0</td>\n",
       "      <td>0</td>\n",
       "      <td>...</td>\n",
       "      <td>254</td>\n",
       "      <td>1.0</td>\n",
       "      <td>0.01</td>\n",
       "      <td>0.00</td>\n",
       "      <td>0.0</td>\n",
       "      <td>0.0</td>\n",
       "      <td>0.0</td>\n",
       "      <td>0.0</td>\n",
       "      <td>0.0</td>\n",
       "      <td>normal.</td>\n",
       "    </tr>\n",
       "    <tr>\n",
       "      <th>2</th>\n",
       "      <td>0</td>\n",
       "      <td>udp</td>\n",
       "      <td>private</td>\n",
       "      <td>SF</td>\n",
       "      <td>105</td>\n",
       "      <td>146</td>\n",
       "      <td>0</td>\n",
       "      <td>0</td>\n",
       "      <td>0</td>\n",
       "      <td>0</td>\n",
       "      <td>...</td>\n",
       "      <td>254</td>\n",
       "      <td>1.0</td>\n",
       "      <td>0.01</td>\n",
       "      <td>0.00</td>\n",
       "      <td>0.0</td>\n",
       "      <td>0.0</td>\n",
       "      <td>0.0</td>\n",
       "      <td>0.0</td>\n",
       "      <td>0.0</td>\n",
       "      <td>normal.</td>\n",
       "    </tr>\n",
       "    <tr>\n",
       "      <th>3</th>\n",
       "      <td>0</td>\n",
       "      <td>udp</td>\n",
       "      <td>private</td>\n",
       "      <td>SF</td>\n",
       "      <td>105</td>\n",
       "      <td>146</td>\n",
       "      <td>0</td>\n",
       "      <td>0</td>\n",
       "      <td>0</td>\n",
       "      <td>0</td>\n",
       "      <td>...</td>\n",
       "      <td>254</td>\n",
       "      <td>1.0</td>\n",
       "      <td>0.01</td>\n",
       "      <td>0.00</td>\n",
       "      <td>0.0</td>\n",
       "      <td>0.0</td>\n",
       "      <td>0.0</td>\n",
       "      <td>0.0</td>\n",
       "      <td>0.0</td>\n",
       "      <td>snmpgetattack.</td>\n",
       "    </tr>\n",
       "    <tr>\n",
       "      <th>4</th>\n",
       "      <td>0</td>\n",
       "      <td>udp</td>\n",
       "      <td>private</td>\n",
       "      <td>SF</td>\n",
       "      <td>105</td>\n",
       "      <td>146</td>\n",
       "      <td>0</td>\n",
       "      <td>0</td>\n",
       "      <td>0</td>\n",
       "      <td>0</td>\n",
       "      <td>...</td>\n",
       "      <td>254</td>\n",
       "      <td>1.0</td>\n",
       "      <td>0.01</td>\n",
       "      <td>0.01</td>\n",
       "      <td>0.0</td>\n",
       "      <td>0.0</td>\n",
       "      <td>0.0</td>\n",
       "      <td>0.0</td>\n",
       "      <td>0.0</td>\n",
       "      <td>snmpgetattack.</td>\n",
       "    </tr>\n",
       "  </tbody>\n",
       "</table>\n",
       "<p>5 rows × 42 columns</p>\n",
       "</div>"
      ],
      "text/plain": [
       "   duration protocol_type  service flag  src_bytes  dst_bytes  land  \\\n",
       "0         0           udp  private   SF        105        146     0   \n",
       "1         0           udp  private   SF        105        146     0   \n",
       "2         0           udp  private   SF        105        146     0   \n",
       "3         0           udp  private   SF        105        146     0   \n",
       "4         0           udp  private   SF        105        146     0   \n",
       "\n",
       "   wrong_fragment  urgent  hot  ...  dst_host_srv_count  \\\n",
       "0               0       0    0  ...                 254   \n",
       "1               0       0    0  ...                 254   \n",
       "2               0       0    0  ...                 254   \n",
       "3               0       0    0  ...                 254   \n",
       "4               0       0    0  ...                 254   \n",
       "\n",
       "   dst_host_same_srv_rate  dst_host_diff_srv_rate  \\\n",
       "0                     1.0                    0.01   \n",
       "1                     1.0                    0.01   \n",
       "2                     1.0                    0.01   \n",
       "3                     1.0                    0.01   \n",
       "4                     1.0                    0.01   \n",
       "\n",
       "   dst_host_same_src_port_rate  dst_host_srv_diff_host_rate  \\\n",
       "0                         0.00                          0.0   \n",
       "1                         0.00                          0.0   \n",
       "2                         0.00                          0.0   \n",
       "3                         0.00                          0.0   \n",
       "4                         0.01                          0.0   \n",
       "\n",
       "   dst_host_serror_rate  dst_host_srv_serror_rate  dst_host_rerror_rate  \\\n",
       "0                   0.0                       0.0                   0.0   \n",
       "1                   0.0                       0.0                   0.0   \n",
       "2                   0.0                       0.0                   0.0   \n",
       "3                   0.0                       0.0                   0.0   \n",
       "4                   0.0                       0.0                   0.0   \n",
       "\n",
       "   dst_host_srv_rerror_rate          result  \n",
       "0                       0.0         normal.  \n",
       "1                       0.0         normal.  \n",
       "2                       0.0         normal.  \n",
       "3                       0.0  snmpgetattack.  \n",
       "4                       0.0  snmpgetattack.  \n",
       "\n",
       "[5 rows x 42 columns]"
      ]
     },
     "execution_count": 5,
     "metadata": {},
     "output_type": "execute_result"
    }
   ],
   "source": [
    "df.head()"
   ]
  },
  {
   "cell_type": "code",
   "execution_count": 6,
   "metadata": {},
   "outputs": [
    {
     "data": {
      "text/plain": [
       "(311029, 42)"
      ]
     },
     "execution_count": 6,
     "metadata": {},
     "output_type": "execute_result"
    }
   ],
   "source": [
    "df.shape"
   ]
  },
  {
   "cell_type": "code",
   "execution_count": 7,
   "metadata": {},
   "outputs": [],
   "source": [
    "#below csv file is a revised one \n",
    "df.to_csv(\"revised_kddcup_dataset.csv\")"
   ]
  },
  {
   "cell_type": "code",
   "execution_count": 8,
   "metadata": {},
   "outputs": [],
   "source": [
    "#extracting the icmp packets from our dataset\n",
    "icmp_df = df[df.loc[:,\"protocol_type\"] == \"icmp\"]"
   ]
  },
  {
   "cell_type": "code",
   "execution_count": 9,
   "metadata": {},
   "outputs": [
    {
     "data": {
      "text/plain": [
       "duration                       0\n",
       "protocol_type                  0\n",
       "service                        0\n",
       "flag                           0\n",
       "src_bytes                      0\n",
       "dst_bytes                      0\n",
       "land                           0\n",
       "wrong_fragment                 0\n",
       "urgent                         0\n",
       "hot                            0\n",
       "num_failed_logins              0\n",
       "logged_in                      0\n",
       "num_compromised                0\n",
       "root_shell                     0\n",
       "su_attempted                   0\n",
       "num_root                       0\n",
       "num_file_creations             0\n",
       "num_shells                     0\n",
       "num_access_files               0\n",
       "num_outbound_cmds              0\n",
       "is_host_login                  0\n",
       "is_guest_login                 0\n",
       "count                          0\n",
       "srv_count                      0\n",
       "serror_rate                    0\n",
       "srv_serror_rate                0\n",
       "same_srv_rate                  0\n",
       "diff_srv_rate                  0\n",
       "srv_diff_host_rate             0\n",
       "una1                           0\n",
       "una2                           0\n",
       "dst_host_count                 0\n",
       "dst_host_srv_count             0\n",
       "dst_host_same_srv_rate         0\n",
       "dst_host_diff_srv_rate         0\n",
       "dst_host_same_src_port_rate    0\n",
       "dst_host_srv_diff_host_rate    0\n",
       "dst_host_serror_rate           0\n",
       "dst_host_srv_serror_rate       0\n",
       "dst_host_rerror_rate           0\n",
       "dst_host_srv_rerror_rate       0\n",
       "result                         0\n",
       "dtype: int64"
      ]
     },
     "execution_count": 9,
     "metadata": {},
     "output_type": "execute_result"
    }
   ],
   "source": [
    "icmp_df.isnull().sum()\n",
    "#none of the values in dataset are null"
   ]
  },
  {
   "cell_type": "code",
   "execution_count": 10,
   "metadata": {},
   "outputs": [
    {
     "data": {
      "text/html": [
       "<div>\n",
       "<style scoped>\n",
       "    .dataframe tbody tr th:only-of-type {\n",
       "        vertical-align: middle;\n",
       "    }\n",
       "\n",
       "    .dataframe tbody tr th {\n",
       "        vertical-align: top;\n",
       "    }\n",
       "\n",
       "    .dataframe thead th {\n",
       "        text-align: right;\n",
       "    }\n",
       "</style>\n",
       "<table border=\"1\" class=\"dataframe\">\n",
       "  <thead>\n",
       "    <tr style=\"text-align: right;\">\n",
       "      <th></th>\n",
       "      <th>duration</th>\n",
       "      <th>protocol_type</th>\n",
       "      <th>service</th>\n",
       "      <th>flag</th>\n",
       "      <th>src_bytes</th>\n",
       "      <th>dst_bytes</th>\n",
       "      <th>land</th>\n",
       "      <th>wrong_fragment</th>\n",
       "      <th>urgent</th>\n",
       "      <th>hot</th>\n",
       "      <th>...</th>\n",
       "      <th>dst_host_srv_count</th>\n",
       "      <th>dst_host_same_srv_rate</th>\n",
       "      <th>dst_host_diff_srv_rate</th>\n",
       "      <th>dst_host_same_src_port_rate</th>\n",
       "      <th>dst_host_srv_diff_host_rate</th>\n",
       "      <th>dst_host_serror_rate</th>\n",
       "      <th>dst_host_srv_serror_rate</th>\n",
       "      <th>dst_host_rerror_rate</th>\n",
       "      <th>dst_host_srv_rerror_rate</th>\n",
       "      <th>result</th>\n",
       "    </tr>\n",
       "  </thead>\n",
       "  <tbody>\n",
       "    <tr>\n",
       "      <th>82</th>\n",
       "      <td>0</td>\n",
       "      <td>icmp</td>\n",
       "      <td>eco_i</td>\n",
       "      <td>SF</td>\n",
       "      <td>30</td>\n",
       "      <td>0</td>\n",
       "      <td>0</td>\n",
       "      <td>0</td>\n",
       "      <td>0</td>\n",
       "      <td>0</td>\n",
       "      <td>...</td>\n",
       "      <td>3</td>\n",
       "      <td>0.01</td>\n",
       "      <td>0.01</td>\n",
       "      <td>0.01</td>\n",
       "      <td>0.0</td>\n",
       "      <td>0.0</td>\n",
       "      <td>0.0</td>\n",
       "      <td>0.0</td>\n",
       "      <td>0.0</td>\n",
       "      <td>normal.</td>\n",
       "    </tr>\n",
       "    <tr>\n",
       "      <th>156</th>\n",
       "      <td>0</td>\n",
       "      <td>icmp</td>\n",
       "      <td>ecr_i</td>\n",
       "      <td>SF</td>\n",
       "      <td>30</td>\n",
       "      <td>0</td>\n",
       "      <td>0</td>\n",
       "      <td>0</td>\n",
       "      <td>0</td>\n",
       "      <td>0</td>\n",
       "      <td>...</td>\n",
       "      <td>75</td>\n",
       "      <td>1.00</td>\n",
       "      <td>0.00</td>\n",
       "      <td>1.00</td>\n",
       "      <td>0.0</td>\n",
       "      <td>0.0</td>\n",
       "      <td>0.0</td>\n",
       "      <td>0.0</td>\n",
       "      <td>0.0</td>\n",
       "      <td>normal.</td>\n",
       "    </tr>\n",
       "    <tr>\n",
       "      <th>406</th>\n",
       "      <td>0</td>\n",
       "      <td>icmp</td>\n",
       "      <td>ecr_i</td>\n",
       "      <td>SF</td>\n",
       "      <td>30</td>\n",
       "      <td>0</td>\n",
       "      <td>0</td>\n",
       "      <td>0</td>\n",
       "      <td>0</td>\n",
       "      <td>0</td>\n",
       "      <td>...</td>\n",
       "      <td>98</td>\n",
       "      <td>1.00</td>\n",
       "      <td>0.00</td>\n",
       "      <td>1.00</td>\n",
       "      <td>0.0</td>\n",
       "      <td>0.0</td>\n",
       "      <td>0.0</td>\n",
       "      <td>0.0</td>\n",
       "      <td>0.0</td>\n",
       "      <td>normal.</td>\n",
       "    </tr>\n",
       "    <tr>\n",
       "      <th>629</th>\n",
       "      <td>0</td>\n",
       "      <td>icmp</td>\n",
       "      <td>ecr_i</td>\n",
       "      <td>SF</td>\n",
       "      <td>30</td>\n",
       "      <td>0</td>\n",
       "      <td>0</td>\n",
       "      <td>0</td>\n",
       "      <td>0</td>\n",
       "      <td>0</td>\n",
       "      <td>...</td>\n",
       "      <td>120</td>\n",
       "      <td>1.00</td>\n",
       "      <td>0.00</td>\n",
       "      <td>1.00</td>\n",
       "      <td>0.0</td>\n",
       "      <td>0.0</td>\n",
       "      <td>0.0</td>\n",
       "      <td>0.0</td>\n",
       "      <td>0.0</td>\n",
       "      <td>normal.</td>\n",
       "    </tr>\n",
       "    <tr>\n",
       "      <th>767</th>\n",
       "      <td>0</td>\n",
       "      <td>icmp</td>\n",
       "      <td>eco_i</td>\n",
       "      <td>SF</td>\n",
       "      <td>30</td>\n",
       "      <td>0</td>\n",
       "      <td>0</td>\n",
       "      <td>0</td>\n",
       "      <td>0</td>\n",
       "      <td>0</td>\n",
       "      <td>...</td>\n",
       "      <td>2</td>\n",
       "      <td>0.01</td>\n",
       "      <td>0.01</td>\n",
       "      <td>0.01</td>\n",
       "      <td>0.0</td>\n",
       "      <td>0.0</td>\n",
       "      <td>0.0</td>\n",
       "      <td>0.0</td>\n",
       "      <td>0.0</td>\n",
       "      <td>normal.</td>\n",
       "    </tr>\n",
       "  </tbody>\n",
       "</table>\n",
       "<p>5 rows × 42 columns</p>\n",
       "</div>"
      ],
      "text/plain": [
       "     duration protocol_type service flag  src_bytes  dst_bytes  land  \\\n",
       "82          0          icmp   eco_i   SF         30          0     0   \n",
       "156         0          icmp   ecr_i   SF         30          0     0   \n",
       "406         0          icmp   ecr_i   SF         30          0     0   \n",
       "629         0          icmp   ecr_i   SF         30          0     0   \n",
       "767         0          icmp   eco_i   SF         30          0     0   \n",
       "\n",
       "     wrong_fragment  urgent  hot  ...  dst_host_srv_count  \\\n",
       "82                0       0    0  ...                   3   \n",
       "156               0       0    0  ...                  75   \n",
       "406               0       0    0  ...                  98   \n",
       "629               0       0    0  ...                 120   \n",
       "767               0       0    0  ...                   2   \n",
       "\n",
       "     dst_host_same_srv_rate  dst_host_diff_srv_rate  \\\n",
       "82                     0.01                    0.01   \n",
       "156                    1.00                    0.00   \n",
       "406                    1.00                    0.00   \n",
       "629                    1.00                    0.00   \n",
       "767                    0.01                    0.01   \n",
       "\n",
       "     dst_host_same_src_port_rate  dst_host_srv_diff_host_rate  \\\n",
       "82                          0.01                          0.0   \n",
       "156                         1.00                          0.0   \n",
       "406                         1.00                          0.0   \n",
       "629                         1.00                          0.0   \n",
       "767                         0.01                          0.0   \n",
       "\n",
       "     dst_host_serror_rate  dst_host_srv_serror_rate  dst_host_rerror_rate  \\\n",
       "82                    0.0                       0.0                   0.0   \n",
       "156                   0.0                       0.0                   0.0   \n",
       "406                   0.0                       0.0                   0.0   \n",
       "629                   0.0                       0.0                   0.0   \n",
       "767                   0.0                       0.0                   0.0   \n",
       "\n",
       "     dst_host_srv_rerror_rate   result  \n",
       "82                        0.0  normal.  \n",
       "156                       0.0  normal.  \n",
       "406                       0.0  normal.  \n",
       "629                       0.0  normal.  \n",
       "767                       0.0  normal.  \n",
       "\n",
       "[5 rows x 42 columns]"
      ]
     },
     "execution_count": 10,
     "metadata": {},
     "output_type": "execute_result"
    }
   ],
   "source": [
    "icmp_df.head()"
   ]
  },
  {
   "cell_type": "code",
   "execution_count": 11,
   "metadata": {},
   "outputs": [],
   "source": [
    "#I will be extracting all the important features as a \"priority\" for preprocessing\n",
    "features = [\"duration\",\"src_bytes\",\"wrong_fragment\",\"count\",\"urgent\",\"num_compromised\",\"srv_count\"]\n",
    "target = \"result\""
   ]
  },
  {
   "cell_type": "code",
   "execution_count": 12,
   "metadata": {},
   "outputs": [],
   "source": [
    "X = icmp_df.loc[:,features]\n",
    "y = icmp_df.loc[:,target]"
   ]
  },
  {
   "cell_type": "code",
   "execution_count": 13,
   "metadata": {},
   "outputs": [
    {
     "name": "stdout",
     "output_type": "stream",
     "text": [
      "['ipsweep.' 'multihop.' 'normal.' 'pod.' 'saint.' 'satan.' 'smurf.'\n",
      " 'snmpguess.']\n"
     ]
    }
   ],
   "source": [
    "classes = np.unique(y)\n",
    "print(classes)"
   ]
  },
  {
   "cell_type": "code",
   "execution_count": 14,
   "metadata": {},
   "outputs": [
    {
     "data": {
      "text/plain": [
       "array(['normal.', 'smurf.', 'ipsweep.', 'saint.', 'pod.', 'multihop.',\n",
       "       'satan.', 'snmpguess.'], dtype=object)"
      ]
     },
     "execution_count": 14,
     "metadata": {},
     "output_type": "execute_result"
    }
   ],
   "source": [
    "icmp_df['result'].unique()"
   ]
  },
  {
   "cell_type": "code",
   "execution_count": 15,
   "metadata": {},
   "outputs": [
    {
     "name": "stderr",
     "output_type": "stream",
     "text": [
      "C:\\Users\\aaron\\AppData\\Local\\Temp/ipykernel_12384/3927206278.py:3: SettingWithCopyWarning: \n",
      "A value is trying to be set on a copy of a slice from a DataFrame.\n",
      "Try using .loc[row_indexer,col_indexer] = value instead\n",
      "\n",
      "See the caveats in the documentation: https://pandas.pydata.org/pandas-docs/stable/user_guide/indexing.html#returning-a-view-versus-a-copy\n",
      "  icmp_df['result']= label_encoder.fit_transform(icmp_df['result'])\n"
     ]
    },
    {
     "data": {
      "text/plain": [
       "array([2, 6, 0, 4, 3, 1, 5, 7])"
      ]
     },
     "execution_count": 15,
     "metadata": {},
     "output_type": "execute_result"
    }
   ],
   "source": [
    "from sklearn import preprocessing\n",
    "label_encoder = preprocessing.LabelEncoder()\n",
    "icmp_df['result']= label_encoder.fit_transform(icmp_df['result'])\n",
    "icmp_df['result'].unique()"
   ]
  },
  {
   "cell_type": "code",
   "execution_count": 16,
   "metadata": {},
   "outputs": [],
   "source": [
    "#turning the service attribute to categorical values\n",
    "icmp_df=icmp_df.replace(\"eco_i\",-0.1)\n",
    "icmp_df=icmp_df.replace(\"ecr_i\",0.0)\n",
    "icmp_df=icmp_df.replace(\"tim_i\",0.1)\n",
    "icmp_df=icmp_df.replace(\"urp_i\",0.2)"
   ]
  },
  {
   "cell_type": "code",
   "execution_count": 17,
   "metadata": {},
   "outputs": [
    {
     "data": {
      "text/html": [
       "<div>\n",
       "<style scoped>\n",
       "    .dataframe tbody tr th:only-of-type {\n",
       "        vertical-align: middle;\n",
       "    }\n",
       "\n",
       "    .dataframe tbody tr th {\n",
       "        vertical-align: top;\n",
       "    }\n",
       "\n",
       "    .dataframe thead th {\n",
       "        text-align: right;\n",
       "    }\n",
       "</style>\n",
       "<table border=\"1\" class=\"dataframe\">\n",
       "  <thead>\n",
       "    <tr style=\"text-align: right;\">\n",
       "      <th></th>\n",
       "      <th>duration</th>\n",
       "      <th>protocol_type</th>\n",
       "      <th>service</th>\n",
       "      <th>flag</th>\n",
       "      <th>src_bytes</th>\n",
       "      <th>dst_bytes</th>\n",
       "      <th>land</th>\n",
       "      <th>wrong_fragment</th>\n",
       "      <th>urgent</th>\n",
       "      <th>hot</th>\n",
       "      <th>...</th>\n",
       "      <th>dst_host_srv_count</th>\n",
       "      <th>dst_host_same_srv_rate</th>\n",
       "      <th>dst_host_diff_srv_rate</th>\n",
       "      <th>dst_host_same_src_port_rate</th>\n",
       "      <th>dst_host_srv_diff_host_rate</th>\n",
       "      <th>dst_host_serror_rate</th>\n",
       "      <th>dst_host_srv_serror_rate</th>\n",
       "      <th>dst_host_rerror_rate</th>\n",
       "      <th>dst_host_srv_rerror_rate</th>\n",
       "      <th>result</th>\n",
       "    </tr>\n",
       "  </thead>\n",
       "  <tbody>\n",
       "    <tr>\n",
       "      <th>82</th>\n",
       "      <td>0</td>\n",
       "      <td>icmp</td>\n",
       "      <td>-0.1</td>\n",
       "      <td>SF</td>\n",
       "      <td>30</td>\n",
       "      <td>0</td>\n",
       "      <td>0</td>\n",
       "      <td>0</td>\n",
       "      <td>0</td>\n",
       "      <td>0</td>\n",
       "      <td>...</td>\n",
       "      <td>3</td>\n",
       "      <td>0.01</td>\n",
       "      <td>0.01</td>\n",
       "      <td>0.01</td>\n",
       "      <td>0.0</td>\n",
       "      <td>0.0</td>\n",
       "      <td>0.0</td>\n",
       "      <td>0.0</td>\n",
       "      <td>0.0</td>\n",
       "      <td>2</td>\n",
       "    </tr>\n",
       "    <tr>\n",
       "      <th>156</th>\n",
       "      <td>0</td>\n",
       "      <td>icmp</td>\n",
       "      <td>0.0</td>\n",
       "      <td>SF</td>\n",
       "      <td>30</td>\n",
       "      <td>0</td>\n",
       "      <td>0</td>\n",
       "      <td>0</td>\n",
       "      <td>0</td>\n",
       "      <td>0</td>\n",
       "      <td>...</td>\n",
       "      <td>75</td>\n",
       "      <td>1.00</td>\n",
       "      <td>0.00</td>\n",
       "      <td>1.00</td>\n",
       "      <td>0.0</td>\n",
       "      <td>0.0</td>\n",
       "      <td>0.0</td>\n",
       "      <td>0.0</td>\n",
       "      <td>0.0</td>\n",
       "      <td>2</td>\n",
       "    </tr>\n",
       "    <tr>\n",
       "      <th>406</th>\n",
       "      <td>0</td>\n",
       "      <td>icmp</td>\n",
       "      <td>0.0</td>\n",
       "      <td>SF</td>\n",
       "      <td>30</td>\n",
       "      <td>0</td>\n",
       "      <td>0</td>\n",
       "      <td>0</td>\n",
       "      <td>0</td>\n",
       "      <td>0</td>\n",
       "      <td>...</td>\n",
       "      <td>98</td>\n",
       "      <td>1.00</td>\n",
       "      <td>0.00</td>\n",
       "      <td>1.00</td>\n",
       "      <td>0.0</td>\n",
       "      <td>0.0</td>\n",
       "      <td>0.0</td>\n",
       "      <td>0.0</td>\n",
       "      <td>0.0</td>\n",
       "      <td>2</td>\n",
       "    </tr>\n",
       "    <tr>\n",
       "      <th>629</th>\n",
       "      <td>0</td>\n",
       "      <td>icmp</td>\n",
       "      <td>0.0</td>\n",
       "      <td>SF</td>\n",
       "      <td>30</td>\n",
       "      <td>0</td>\n",
       "      <td>0</td>\n",
       "      <td>0</td>\n",
       "      <td>0</td>\n",
       "      <td>0</td>\n",
       "      <td>...</td>\n",
       "      <td>120</td>\n",
       "      <td>1.00</td>\n",
       "      <td>0.00</td>\n",
       "      <td>1.00</td>\n",
       "      <td>0.0</td>\n",
       "      <td>0.0</td>\n",
       "      <td>0.0</td>\n",
       "      <td>0.0</td>\n",
       "      <td>0.0</td>\n",
       "      <td>2</td>\n",
       "    </tr>\n",
       "    <tr>\n",
       "      <th>767</th>\n",
       "      <td>0</td>\n",
       "      <td>icmp</td>\n",
       "      <td>-0.1</td>\n",
       "      <td>SF</td>\n",
       "      <td>30</td>\n",
       "      <td>0</td>\n",
       "      <td>0</td>\n",
       "      <td>0</td>\n",
       "      <td>0</td>\n",
       "      <td>0</td>\n",
       "      <td>...</td>\n",
       "      <td>2</td>\n",
       "      <td>0.01</td>\n",
       "      <td>0.01</td>\n",
       "      <td>0.01</td>\n",
       "      <td>0.0</td>\n",
       "      <td>0.0</td>\n",
       "      <td>0.0</td>\n",
       "      <td>0.0</td>\n",
       "      <td>0.0</td>\n",
       "      <td>2</td>\n",
       "    </tr>\n",
       "  </tbody>\n",
       "</table>\n",
       "<p>5 rows × 42 columns</p>\n",
       "</div>"
      ],
      "text/plain": [
       "     duration protocol_type  service flag  src_bytes  dst_bytes  land  \\\n",
       "82          0          icmp     -0.1   SF         30          0     0   \n",
       "156         0          icmp      0.0   SF         30          0     0   \n",
       "406         0          icmp      0.0   SF         30          0     0   \n",
       "629         0          icmp      0.0   SF         30          0     0   \n",
       "767         0          icmp     -0.1   SF         30          0     0   \n",
       "\n",
       "     wrong_fragment  urgent  hot  ...  dst_host_srv_count  \\\n",
       "82                0       0    0  ...                   3   \n",
       "156               0       0    0  ...                  75   \n",
       "406               0       0    0  ...                  98   \n",
       "629               0       0    0  ...                 120   \n",
       "767               0       0    0  ...                   2   \n",
       "\n",
       "     dst_host_same_srv_rate  dst_host_diff_srv_rate  \\\n",
       "82                     0.01                    0.01   \n",
       "156                    1.00                    0.00   \n",
       "406                    1.00                    0.00   \n",
       "629                    1.00                    0.00   \n",
       "767                    0.01                    0.01   \n",
       "\n",
       "     dst_host_same_src_port_rate  dst_host_srv_diff_host_rate  \\\n",
       "82                          0.01                          0.0   \n",
       "156                         1.00                          0.0   \n",
       "406                         1.00                          0.0   \n",
       "629                         1.00                          0.0   \n",
       "767                         0.01                          0.0   \n",
       "\n",
       "     dst_host_serror_rate  dst_host_srv_serror_rate  dst_host_rerror_rate  \\\n",
       "82                    0.0                       0.0                   0.0   \n",
       "156                   0.0                       0.0                   0.0   \n",
       "406                   0.0                       0.0                   0.0   \n",
       "629                   0.0                       0.0                   0.0   \n",
       "767                   0.0                       0.0                   0.0   \n",
       "\n",
       "     dst_host_srv_rerror_rate  result  \n",
       "82                        0.0       2  \n",
       "156                       0.0       2  \n",
       "406                       0.0       2  \n",
       "629                       0.0       2  \n",
       "767                       0.0       2  \n",
       "\n",
       "[5 rows x 42 columns]"
      ]
     },
     "execution_count": 17,
     "metadata": {},
     "output_type": "execute_result"
    }
   ],
   "source": [
    "icmp_df.head()"
   ]
  },
  {
   "cell_type": "code",
   "execution_count": 18,
   "metadata": {},
   "outputs": [],
   "source": [
    "y = icmp_df.loc[:,target]"
   ]
  },
  {
   "cell_type": "code",
   "execution_count": 19,
   "metadata": {},
   "outputs": [
    {
     "data": {
      "text/plain": [
       "[]"
      ]
     },
     "execution_count": 19,
     "metadata": {},
     "output_type": "execute_result"
    },
    {
     "data": {
      "image/png": "[encoded data removed]",
      "text/plain": [
       "<Figure size 432x288 with 2 Axes>"
      ]
     },
     "metadata": {
      "needs_background": "light"
     },
     "output_type": "display_data"
    }
   ],
   "source": [
    "#I selected certain features but I will have to find some covariance between them so I will plot a covariance heatmap\n",
    "sns.heatmap(X.corr(), annot=True,cmap=\"RdBu\")\n",
    "plt.plot()\n",
    "#the data as seen is highly uncorrelated as most of it is one valued such as the duration one."
   ]
  },
  {
   "cell_type": "code",
   "execution_count": 20,
   "metadata": {},
   "outputs": [
    {
     "name": "stdout",
     "output_type": "stream",
     "text": [
      "src_bytes          0.473910\n",
      "count              0.255850\n",
      "srv_count          0.226801\n",
      "wrong_fragment     0.043439\n",
      "duration           0.000000\n",
      "urgent             0.000000\n",
      "num_compromised    0.000000\n",
      "dtype: float64\n"
     ]
    }
   ],
   "source": [
    "from sklearn.ensemble import RandomForestClassifier\n",
    "rs = RandomForestClassifier()\n",
    "rs.fit(X,y)\n",
    "print(pd.Series(rs.feature_importances_,index=features).sort_values(ascending=False))"
   ]
  },
  {
   "cell_type": "code",
   "execution_count": 21,
   "metadata": {},
   "outputs": [
    {
     "data": {
      "text/html": [
       "<div>\n",
       "<style scoped>\n",
       "    .dataframe tbody tr th:only-of-type {\n",
       "        vertical-align: middle;\n",
       "    }\n",
       "\n",
       "    .dataframe tbody tr th {\n",
       "        vertical-align: top;\n",
       "    }\n",
       "\n",
       "    .dataframe thead th {\n",
       "        text-align: right;\n",
       "    }\n",
       "</style>\n",
       "<table border=\"1\" class=\"dataframe\">\n",
       "  <thead>\n",
       "    <tr style=\"text-align: right;\">\n",
       "      <th></th>\n",
       "      <th>duration</th>\n",
       "      <th>src_bytes</th>\n",
       "      <th>wrong_fragment</th>\n",
       "      <th>count</th>\n",
       "      <th>urgent</th>\n",
       "      <th>num_compromised</th>\n",
       "      <th>srv_count</th>\n",
       "    </tr>\n",
       "  </thead>\n",
       "  <tbody>\n",
       "    <tr>\n",
       "      <th>82</th>\n",
       "      <td>0</td>\n",
       "      <td>30</td>\n",
       "      <td>0</td>\n",
       "      <td>2</td>\n",
       "      <td>0</td>\n",
       "      <td>0</td>\n",
       "      <td>2</td>\n",
       "    </tr>\n",
       "    <tr>\n",
       "      <th>156</th>\n",
       "      <td>0</td>\n",
       "      <td>30</td>\n",
       "      <td>0</td>\n",
       "      <td>2</td>\n",
       "      <td>0</td>\n",
       "      <td>0</td>\n",
       "      <td>2</td>\n",
       "    </tr>\n",
       "    <tr>\n",
       "      <th>406</th>\n",
       "      <td>0</td>\n",
       "      <td>30</td>\n",
       "      <td>0</td>\n",
       "      <td>2</td>\n",
       "      <td>0</td>\n",
       "      <td>0</td>\n",
       "      <td>2</td>\n",
       "    </tr>\n",
       "    <tr>\n",
       "      <th>629</th>\n",
       "      <td>0</td>\n",
       "      <td>30</td>\n",
       "      <td>0</td>\n",
       "      <td>1</td>\n",
       "      <td>0</td>\n",
       "      <td>0</td>\n",
       "      <td>1</td>\n",
       "    </tr>\n",
       "    <tr>\n",
       "      <th>767</th>\n",
       "      <td>0</td>\n",
       "      <td>30</td>\n",
       "      <td>0</td>\n",
       "      <td>3</td>\n",
       "      <td>0</td>\n",
       "      <td>0</td>\n",
       "      <td>1</td>\n",
       "    </tr>\n",
       "  </tbody>\n",
       "</table>\n",
       "</div>"
      ],
      "text/plain": [
       "     duration  src_bytes  wrong_fragment  count  urgent  num_compromised  \\\n",
       "82          0         30               0      2       0                0   \n",
       "156         0         30               0      2       0                0   \n",
       "406         0         30               0      2       0                0   \n",
       "629         0         30               0      1       0                0   \n",
       "767         0         30               0      3       0                0   \n",
       "\n",
       "     srv_count  \n",
       "82           2  \n",
       "156          2  \n",
       "406          2  \n",
       "629          1  \n",
       "767          1  "
      ]
     },
     "execution_count": 21,
     "metadata": {},
     "output_type": "execute_result"
    }
   ],
   "source": [
    "X = icmp_df.loc[:,features]\n",
    "y = icmp_df.loc[:,target]\n",
    "X.head(5)"
   ]
  },
  {
   "cell_type": "code",
   "execution_count": 22,
   "metadata": {},
   "outputs": [
    {
     "name": "stdout",
     "output_type": "stream",
     "text": [
      "[0, 30, 0, 1, 0, 0, 1]\n"
     ]
    }
   ],
   "source": [
    "print(list(X.loc[629,:])) #7 input features"
   ]
  },
  {
   "cell_type": "code",
   "execution_count": 23,
   "metadata": {},
   "outputs": [
    {
     "name": "stdout",
     "output_type": "stream",
     "text": [
      "2\n"
     ]
    }
   ],
   "source": [
    "print(y.loc[629])"
   ]
  },
  {
   "cell_type": "code",
   "execution_count": 24,
   "metadata": {},
   "outputs": [],
   "source": [
    "from sklearn.model_selection import train_test_split"
   ]
  },
  {
   "cell_type": "code",
   "execution_count": 25,
   "metadata": {},
   "outputs": [],
   "source": [
    "X_train, X_test, y_train, y_test = train_test_split(X, y, random_state=42, test_size=0.3)"
   ]
  },
  {
   "cell_type": "code",
   "execution_count": 26,
   "metadata": {},
   "outputs": [],
   "source": [
    "from sklearn.linear_model import LogisticRegression\n",
    "from sklearn.neighbors import KNeighborsClassifier\n",
    "from sklearn.neural_network import MLPClassifier\n",
    "from sklearn.tree import DecisionTreeClassifier\n",
    "from sklearn.svm import SVC\n",
    "from sklearn.naive_bayes import GaussianNB\n",
    "from sklearn.ensemble import RandomForestClassifier\n",
    "from sklearn.ensemble import AdaBoostClassifier\n",
    "from sklearn.ensemble import GradientBoostingClassifier\n",
    "from xgboost import XGBClassifier\n",
    "\n",
    "from sklearn.metrics import classification_report\n",
    "from sklearn.metrics import confusion_matrix\n",
    "from sklearn.metrics import accuracy_score"
   ]
  },
  {
   "cell_type": "markdown",
   "metadata": {},
   "source": [
    "### ML Models: \n",
    "\n",
    "### 1.***Logistic Regression***\n",
    "### 2.***K Nearest Neighbours***\n",
    "### 3.***MLP Classifier***\n",
    "### 4.***Decision Tree***\n",
    "### 5.***SVM***\n",
    "### 6.***Naive Bayes***\n",
    "### 7.***RandomForest Classification***\n",
    "### 8.***Adaboost***\n",
    "### 9.***Gradient Boosting***\n",
    "### 10.***XGBoost***"
   ]
  },
  {
   "cell_type": "code",
   "execution_count": 27,
   "metadata": {},
   "outputs": [],
   "source": [
    "models = [LogisticRegression(), KNeighborsClassifier(n_neighbors=3),MLPClassifier(alpha=0.005),DecisionTreeClassifier(),SVC(),GaussianNB(),RandomForestClassifier(),AdaBoostClassifier(),GradientBoostingClassifier(),XGBClassifier()]\n",
    "classifiers = [\"LR\", \"KNN\",\"MLP\",\"DT\",\"SVM\",\"NB\",\"RF\",\"AdaBoost\",\"GB\",\"XGB\"]\n",
    "scores = []"
   ]
  },
  {
   "cell_type": "code",
   "execution_count": 28,
   "metadata": {},
   "outputs": [
    {
     "name": "stderr",
     "output_type": "stream",
     "text": [
      "C:\\Users\\aaron\\anaconda3\\lib\\site-packages\\sklearn\\linear_model\\_logistic.py:763: ConvergenceWarning: lbfgs failed to converge (status=1):\n",
      "STOP: TOTAL NO. of ITERATIONS REACHED LIMIT.\n",
      "\n",
      "Increase the number of iterations (max_iter) or scale the data as shown in:\n",
      "    https://scikit-learn.org/stable/modules/preprocessing.html\n",
      "Please also refer to the documentation for alternative solver options:\n",
      "    https://scikit-learn.org/stable/modules/linear_model.html#logistic-regression\n",
      "  n_iter_i = _check_optimize_result(\n",
      "C:\\Users\\aaron\\anaconda3\\lib\\site-packages\\sklearn\\metrics\\_classification.py:1248: UndefinedMetricWarning: Precision and F-score are ill-defined and being set to 0.0 in labels with no predicted samples. Use `zero_division` parameter to control this behavior.\n",
      "  _warn_prf(average, modifier, msg_start, len(result))\n",
      "C:\\Users\\aaron\\anaconda3\\lib\\site-packages\\sklearn\\metrics\\_classification.py:1248: UndefinedMetricWarning: Precision and F-score are ill-defined and being set to 0.0 in labels with no predicted samples. Use `zero_division` parameter to control this behavior.\n",
      "  _warn_prf(average, modifier, msg_start, len(result))\n",
      "C:\\Users\\aaron\\anaconda3\\lib\\site-packages\\sklearn\\metrics\\_classification.py:1248: UndefinedMetricWarning: Precision and F-score are ill-defined and being set to 0.0 in labels with no predicted samples. Use `zero_division` parameter to control this behavior.\n",
      "  _warn_prf(average, modifier, msg_start, len(result))\n"
     ]
    },
    {
     "name": "stdout",
     "output_type": "stream",
     "text": [
      "Accuracy of the model is:  99.56557757976198\n",
      "Confusion Matrix:\n",
      " [[    8     0     0    11    82]\n",
      " [    0    13     0     0    93]\n",
      " [    0    23     0     0     0]\n",
      " [    2     0     0    29     1]\n",
      " [    0     3     0     0 49226]]\n",
      "Report:\n",
      "               precision    recall  f1-score   support\n",
      "\n",
      "           0       0.80      0.08      0.14       101\n",
      "           2       0.33      0.12      0.18       106\n",
      "           3       0.00      0.00      0.00        23\n",
      "           4       0.72      0.91      0.81        32\n",
      "           6       1.00      1.00      1.00     49229\n",
      "\n",
      "    accuracy                           1.00     49491\n",
      "   macro avg       0.57      0.42      0.43     49491\n",
      "weighted avg       0.99      1.00      0.99     49491\n",
      "\n",
      "\n",
      "==============***===============\n",
      "Accuracy of the model is:  99.98989715301772\n",
      "Confusion Matrix:\n",
      " [[  100     0     0     0     1]\n",
      " [    0   105     1     0     0]\n",
      " [    0     0    23     0     0]\n",
      " [    2     1     0    29     0]\n",
      " [    0     0     0     0 49229]]\n",
      "Report:\n",
      "               precision    recall  f1-score   support\n",
      "\n",
      "           0       0.98      0.99      0.99       101\n",
      "           2       0.99      0.99      0.99       106\n",
      "           3       0.96      1.00      0.98        23\n",
      "           4       1.00      0.91      0.95        32\n",
      "           6       1.00      1.00      1.00     49229\n",
      "\n",
      "    accuracy                           1.00     49491\n",
      "   macro avg       0.99      0.98      0.98     49491\n",
      "weighted avg       1.00      1.00      1.00     49491\n",
      "\n",
      "\n",
      "==============***===============\n",
      "Accuracy of the model is:  99.87674526681619\n",
      "Confusion Matrix:\n",
      " [[  100     0     0     0     1]\n",
      " [    0   106     0     0     0]\n",
      " [    0    23     0     0     0]\n",
      " [    1     0     0    30     1]\n",
      " [    0    17    18     0 49194]]\n",
      "Report:\n",
      "               precision    recall  f1-score   support\n",
      "\n",
      "           0       0.99      0.99      0.99       101\n",
      "           2       0.73      1.00      0.84       106\n",
      "           3       0.00      0.00      0.00        23\n",
      "           4       1.00      0.94      0.97        32\n",
      "           6       1.00      1.00      1.00     49229\n",
      "\n",
      "    accuracy                           1.00     49491\n",
      "   macro avg       0.74      0.79      0.76     49491\n",
      "weighted avg       1.00      1.00      1.00     49491\n",
      "\n",
      "\n",
      "==============***===============\n",
      "Accuracy of the model is:  99.99595886120709\n",
      "Confusion Matrix:\n",
      " [[  100     0     0     0     1]\n",
      " [    0   106     0     0     0]\n",
      " [    0     0    23     0     0]\n",
      " [    0     1     0    31     0]\n",
      " [    0     0     0     0 49229]]\n",
      "Report:\n",
      "               precision    recall  f1-score   support\n",
      "\n",
      "           0       1.00      0.99      1.00       101\n",
      "           2       0.99      1.00      1.00       106\n",
      "           3       1.00      1.00      1.00        23\n",
      "           4       1.00      0.97      0.98        32\n",
      "           6       1.00      1.00      1.00     49229\n",
      "\n",
      "    accuracy                           1.00     49491\n",
      "   macro avg       1.00      0.99      0.99     49491\n",
      "weighted avg       1.00      1.00      1.00     49491\n",
      "\n",
      "\n",
      "==============***===============\n",
      "Accuracy of the model is:  99.71712028449618\n",
      "Confusion Matrix:\n",
      " [[    0   100     0     0     1]\n",
      " [    0   100     6     0     0]\n",
      " [    0     0    22     0     1]\n",
      " [    0    32     0     0     0]\n",
      " [    0     0     0     0 49229]]\n",
      "Report:\n",
      "               precision    recall  f1-score   support\n",
      "\n",
      "           0       0.00      0.00      0.00       101\n",
      "           2       0.43      0.94      0.59       106\n",
      "           3       0.79      0.96      0.86        23\n",
      "           4       0.00      0.00      0.00        32\n",
      "           6       1.00      1.00      1.00     49229\n",
      "\n",
      "    accuracy                           1.00     49491\n",
      "   macro avg       0.44      0.58      0.49     49491\n",
      "weighted avg       1.00      1.00      1.00     49491\n",
      "\n",
      "\n",
      "==============***===============\n",
      "Accuracy of the model is:  99.75753167242529\n"
     ]
    },
    {
     "name": "stderr",
     "output_type": "stream",
     "text": [
      "C:\\Users\\aaron\\anaconda3\\lib\\site-packages\\sklearn\\metrics\\_classification.py:1248: UndefinedMetricWarning: Precision and F-score are ill-defined and being set to 0.0 in labels with no predicted samples. Use `zero_division` parameter to control this behavior.\n",
      "  _warn_prf(average, modifier, msg_start, len(result))\n",
      "C:\\Users\\aaron\\anaconda3\\lib\\site-packages\\sklearn\\metrics\\_classification.py:1248: UndefinedMetricWarning: Precision and F-score are ill-defined and being set to 0.0 in labels with no predicted samples. Use `zero_division` parameter to control this behavior.\n",
      "  _warn_prf(average, modifier, msg_start, len(result))\n",
      "C:\\Users\\aaron\\anaconda3\\lib\\site-packages\\sklearn\\metrics\\_classification.py:1248: UndefinedMetricWarning: Precision and F-score are ill-defined and being set to 0.0 in labels with no predicted samples. Use `zero_division` parameter to control this behavior.\n",
      "  _warn_prf(average, modifier, msg_start, len(result))\n",
      "C:\\Users\\aaron\\anaconda3\\lib\\site-packages\\sklearn\\metrics\\_classification.py:1248: UndefinedMetricWarning: Recall and F-score are ill-defined and being set to 0.0 in labels with no true samples. Use `zero_division` parameter to control this behavior.\n",
      "  _warn_prf(average, modifier, msg_start, len(result))\n",
      "C:\\Users\\aaron\\anaconda3\\lib\\site-packages\\sklearn\\metrics\\_classification.py:1248: UndefinedMetricWarning: Recall and F-score are ill-defined and being set to 0.0 in labels with no true samples. Use `zero_division` parameter to control this behavior.\n",
      "  _warn_prf(average, modifier, msg_start, len(result))\n",
      "C:\\Users\\aaron\\anaconda3\\lib\\site-packages\\sklearn\\metrics\\_classification.py:1248: UndefinedMetricWarning: Recall and F-score are ill-defined and being set to 0.0 in labels with no true samples. Use `zero_division` parameter to control this behavior.\n",
      "  _warn_prf(average, modifier, msg_start, len(result))\n"
     ]
    },
    {
     "name": "stdout",
     "output_type": "stream",
     "text": [
      "Confusion Matrix:\n",
      " [[   17    83     0     0     1     0]\n",
      " [    9    74     5     0     0    18]\n",
      " [    0     1    22     0     0     0]\n",
      " [    0     0     0    31     1     0]\n",
      " [    0     2     0     0 49227     0]\n",
      " [    0     0     0     0     0     0]]\n",
      "Report:\n",
      "               precision    recall  f1-score   support\n",
      "\n",
      "           0       0.65      0.17      0.27       101\n",
      "           2       0.46      0.70      0.56       106\n",
      "           3       0.81      0.96      0.88        23\n",
      "           4       1.00      0.97      0.98        32\n",
      "           6       1.00      1.00      1.00     49229\n",
      "           7       0.00      0.00      0.00         0\n",
      "\n",
      "    accuracy                           1.00     49491\n",
      "   macro avg       0.66      0.63      0.61     49491\n",
      "weighted avg       1.00      1.00      1.00     49491\n",
      "\n",
      "\n",
      "==============***===============\n",
      "Accuracy of the model is:  99.99595886120709\n",
      "Confusion Matrix:\n",
      " [[  100     0     0     0     1]\n",
      " [    0   106     0     0     0]\n",
      " [    0     0    23     0     0]\n",
      " [    0     1     0    31     0]\n",
      " [    0     0     0     0 49229]]\n",
      "Report:\n",
      "               precision    recall  f1-score   support\n",
      "\n",
      "           0       1.00      0.99      1.00       101\n",
      "           2       0.99      1.00      1.00       106\n",
      "           3       1.00      1.00      1.00        23\n",
      "           4       1.00      0.97      0.98        32\n",
      "           6       1.00      1.00      1.00     49229\n",
      "\n",
      "    accuracy                           1.00     49491\n",
      "   macro avg       1.00      0.99      0.99     49491\n",
      "weighted avg       1.00      1.00      1.00     49491\n",
      "\n",
      "\n",
      "==============***===============\n",
      "Accuracy of the model is:  99.94342405689923\n",
      "Confusion Matrix:\n",
      " [[  100     0     0     0     1]\n",
      " [    0   105     0     0     1]\n",
      " [    0    23     0     0     0]\n",
      " [    0     0     0    32     0]\n",
      " [    0     3     0     0 49226]]\n",
      "Report:\n",
      "               precision    recall  f1-score   support\n",
      "\n",
      "           0       1.00      0.99      1.00       101\n",
      "           2       0.80      0.99      0.89       106\n",
      "           3       0.00      0.00      0.00        23\n",
      "           4       1.00      1.00      1.00        32\n",
      "           6       1.00      1.00      1.00     49229\n",
      "\n",
      "    accuracy                           1.00     49491\n",
      "   macro avg       0.76      0.80      0.78     49491\n",
      "weighted avg       1.00      1.00      1.00     49491\n",
      "\n",
      "\n",
      "==============***===============\n"
     ]
    },
    {
     "name": "stderr",
     "output_type": "stream",
     "text": [
      "C:\\Users\\aaron\\anaconda3\\lib\\site-packages\\sklearn\\metrics\\_classification.py:1248: UndefinedMetricWarning: Precision and F-score are ill-defined and being set to 0.0 in labels with no predicted samples. Use `zero_division` parameter to control this behavior.\n",
      "  _warn_prf(average, modifier, msg_start, len(result))\n",
      "C:\\Users\\aaron\\anaconda3\\lib\\site-packages\\sklearn\\metrics\\_classification.py:1248: UndefinedMetricWarning: Precision and F-score are ill-defined and being set to 0.0 in labels with no predicted samples. Use `zero_division` parameter to control this behavior.\n",
      "  _warn_prf(average, modifier, msg_start, len(result))\n",
      "C:\\Users\\aaron\\anaconda3\\lib\\site-packages\\sklearn\\metrics\\_classification.py:1248: UndefinedMetricWarning: Precision and F-score are ill-defined and being set to 0.0 in labels with no predicted samples. Use `zero_division` parameter to control this behavior.\n",
      "  _warn_prf(average, modifier, msg_start, len(result))\n"
     ]
    },
    {
     "name": "stdout",
     "output_type": "stream",
     "text": [
      "Accuracy of the model is:  99.56961871855489\n",
      "Confusion Matrix:\n",
      " [[   17     0     0     0     1     1    82]\n",
      " [    0     2     0     0     0    12    92]\n",
      " [    0     0     1     0     0    22     0]\n",
      " [    0     0     0    31     0     0     1]\n",
      " [    0     0     0     0     0     0     0]\n",
      " [    0     2     0     0     0 49227     0]\n",
      " [    0     0     0     0     0     0     0]]\n",
      "Report:\n",
      "               precision    recall  f1-score   support\n",
      "\n",
      "           0       1.00      0.17      0.29       101\n",
      "           2       0.50      0.02      0.04       106\n",
      "           3       1.00      0.04      0.08        23\n",
      "           4       1.00      0.97      0.98        32\n",
      "           5       0.00      0.00      0.00         0\n",
      "           6       1.00      1.00      1.00     49229\n",
      "           7       0.00      0.00      0.00         0\n",
      "\n",
      "    accuracy                           1.00     49491\n",
      "   macro avg       0.64      0.31      0.34     49491\n",
      "weighted avg       1.00      1.00      1.00     49491\n",
      "\n",
      "\n",
      "==============***===============\n"
     ]
    },
    {
     "name": "stderr",
     "output_type": "stream",
     "text": [
      "C:\\Users\\aaron\\anaconda3\\lib\\site-packages\\sklearn\\metrics\\_classification.py:1248: UndefinedMetricWarning: Recall and F-score are ill-defined and being set to 0.0 in labels with no true samples. Use `zero_division` parameter to control this behavior.\n",
      "  _warn_prf(average, modifier, msg_start, len(result))\n",
      "C:\\Users\\aaron\\anaconda3\\lib\\site-packages\\sklearn\\metrics\\_classification.py:1248: UndefinedMetricWarning: Recall and F-score are ill-defined and being set to 0.0 in labels with no true samples. Use `zero_division` parameter to control this behavior.\n",
      "  _warn_prf(average, modifier, msg_start, len(result))\n",
      "C:\\Users\\aaron\\anaconda3\\lib\\site-packages\\sklearn\\metrics\\_classification.py:1248: UndefinedMetricWarning: Recall and F-score are ill-defined and being set to 0.0 in labels with no true samples. Use `zero_division` parameter to control this behavior.\n",
      "  _warn_prf(average, modifier, msg_start, len(result))\n",
      "C:\\Users\\aaron\\anaconda3\\lib\\site-packages\\xgboost\\sklearn.py:1224: UserWarning: The use of label encoder in XGBClassifier is deprecated and will be removed in a future release. To remove this warning, do the following: 1) Pass option use_label_encoder=False when constructing XGBClassifier object; and 2) Encode your labels (y) as integers starting with 0, i.e. 0, 1, 2, ..., [num_class - 1].\n",
      "  warnings.warn(label_encoder_deprecation_msg, UserWarning)\n"
     ]
    },
    {
     "name": "stdout",
     "output_type": "stream",
     "text": [
      "[21:41:23] WARNING: C:/Users/Administrator/workspace/xgboost-win64_release_1.5.1/src/learner.cc:1115: Starting in XGBoost 1.3.0, the default evaluation metric used with the objective 'multi:softprob' was changed from 'merror' to 'mlogloss'. Explicitly set eval_metric if you'd like to restore the old behavior.\n",
      "Accuracy of the model is:  99.99393829181064\n",
      "Confusion Matrix:\n",
      " [[  100     0     0     0     1     0]\n",
      " [    0   105     0     0     0     1]\n",
      " [    0     0    23     0     0     0]\n",
      " [    0     0     0    31     1     0]\n",
      " [    0     0     0     0 49229     0]\n",
      " [    0     0     0     0     0     0]]\n",
      "Report:\n",
      "               precision    recall  f1-score   support\n",
      "\n",
      "           0       1.00      0.99      1.00       101\n",
      "           2       1.00      0.99      1.00       106\n",
      "           3       1.00      1.00      1.00        23\n",
      "           4       1.00      0.97      0.98        32\n",
      "           6       1.00      1.00      1.00     49229\n",
      "           7       0.00      0.00      0.00         0\n",
      "\n",
      "    accuracy                           1.00     49491\n",
      "   macro avg       0.83      0.82      0.83     49491\n",
      "weighted avg       1.00      1.00      1.00     49491\n",
      "\n",
      "\n",
      "==============***===============\n"
     ]
    },
    {
     "name": "stderr",
     "output_type": "stream",
     "text": [
      "C:\\Users\\aaron\\anaconda3\\lib\\site-packages\\sklearn\\metrics\\_classification.py:1248: UndefinedMetricWarning: Recall and F-score are ill-defined and being set to 0.0 in labels with no true samples. Use `zero_division` parameter to control this behavior.\n",
      "  _warn_prf(average, modifier, msg_start, len(result))\n",
      "C:\\Users\\aaron\\anaconda3\\lib\\site-packages\\sklearn\\metrics\\_classification.py:1248: UndefinedMetricWarning: Recall and F-score are ill-defined and being set to 0.0 in labels with no true samples. Use `zero_division` parameter to control this behavior.\n",
      "  _warn_prf(average, modifier, msg_start, len(result))\n",
      "C:\\Users\\aaron\\anaconda3\\lib\\site-packages\\sklearn\\metrics\\_classification.py:1248: UndefinedMetricWarning: Recall and F-score are ill-defined and being set to 0.0 in labels with no true samples. Use `zero_division` parameter to control this behavior.\n",
      "  _warn_prf(average, modifier, msg_start, len(result))\n"
     ]
    }
   ],
   "source": [
    "for model in models:\n",
    "    model.fit(X_train,y_train)\n",
    "    y_pred = model.predict(X_test)\n",
    "    score = accuracy_score(y_test, y_pred)*100\n",
    "    scores.append(score)\n",
    "    print(\"Accuracy of the model is: \", score)\n",
    "    conf_matrix = confusion_matrix(y_test,y_pred)\n",
    "    report = classification_report(y_test,y_pred)\n",
    "    print(\"Confusion Matrix:\\n\",conf_matrix)\n",
    "    print(\"Report:\\n\",report)\n",
    "    print(\"\\n==============***===============\")"
   ]
  },
  {
   "cell_type": "markdown",
   "metadata": {},
   "source": [
    "### ***An array of all accuracies of the models***"
   ]
  },
  {
   "cell_type": "code",
   "execution_count": 29,
   "metadata": {},
   "outputs": [
    {
     "data": {
      "text/plain": [
       "[99.56557757976198,\n",
       " 99.98989715301772,\n",
       " 99.87674526681619,\n",
       " 99.99595886120709,\n",
       " 99.71712028449618,\n",
       " 99.75753167242529,\n",
       " 99.99595886120709,\n",
       " 99.94342405689923,\n",
       " 99.56961871855489,\n",
       " 99.99393829181064]"
      ]
     },
     "execution_count": 29,
     "metadata": {},
     "output_type": "execute_result"
    }
   ],
   "source": [
    "scores=scores[:10]\n",
    "scores"
   ]
  },
  {
   "cell_type": "markdown",
   "metadata": {},
   "source": [
    "### ***Plotting of the accuracies of all models***"
   ]
  },
  {
   "cell_type": "code",
   "execution_count": 30,
   "metadata": {},
   "outputs": [
    {
     "data": {
      "image/png": "[encoded data removed]",
      "text/plain": [
       "<Figure size 432x288 with 1 Axes>"
      ]
     },
     "metadata": {
      "needs_background": "light"
     },
     "output_type": "display_data"
    }
   ],
   "source": [
    "plt.plot(classifiers,scores)\n",
    "plt.title(\"ICMP Attack\")\n",
    "plt.ylim(99.5,100)\n",
    "plt.show()"
   ]
  },
  {
   "cell_type": "markdown",
   "metadata": {},
   "source": [
    "### ***Sample Model Running Codes***"
   ]
  },
  {
   "cell_type": "code",
   "execution_count": 41,
   "metadata": {},
   "outputs": [
    {
     "name": "stdout",
     "output_type": "stream",
     "text": [
      "Accuracy of  model is:  99.56557757976198\n",
      "Confusion Matrix:\n",
      " [[    8     0     0    11    82]\n",
      " [    0    13     0     0    93]\n",
      " [    0    23     0     0     0]\n",
      " [    2     0     0    29     1]\n",
      " [    0     3     0     0 49226]]\n",
      "Report:\n",
      "               precision    recall  f1-score   support\n",
      "\n",
      "           0       0.80      0.08      0.14       101\n",
      "           2       0.33      0.12      0.18       106\n",
      "           3       0.00      0.00      0.00        23\n",
      "           4       0.72      0.91      0.81        32\n",
      "           6       1.00      1.00      1.00     49229\n",
      "\n",
      "    accuracy                           1.00     49491\n",
      "   macro avg       0.57      0.42      0.43     49491\n",
      "weighted avg       0.99      1.00      0.99     49491\n",
      "\n",
      "\n",
      "==============***===============\n"
     ]
    },
    {
     "name": "stderr",
     "output_type": "stream",
     "text": [
      "C:\\Users\\aaron\\anaconda3\\lib\\site-packages\\sklearn\\linear_model\\_logistic.py:763: ConvergenceWarning: lbfgs failed to converge (status=1):\n",
      "STOP: TOTAL NO. of ITERATIONS REACHED LIMIT.\n",
      "\n",
      "Increase the number of iterations (max_iter) or scale the data as shown in:\n",
      "    https://scikit-learn.org/stable/modules/preprocessing.html\n",
      "Please also refer to the documentation for alternative solver options:\n",
      "    https://scikit-learn.org/stable/modules/linear_model.html#logistic-regression\n",
      "  n_iter_i = _check_optimize_result(\n",
      "C:\\Users\\aaron\\anaconda3\\lib\\site-packages\\sklearn\\metrics\\_classification.py:1248: UndefinedMetricWarning: Precision and F-score are ill-defined and being set to 0.0 in labels with no predicted samples. Use `zero_division` parameter to control this behavior.\n",
      "  _warn_prf(average, modifier, msg_start, len(result))\n",
      "C:\\Users\\aaron\\anaconda3\\lib\\site-packages\\sklearn\\metrics\\_classification.py:1248: UndefinedMetricWarning: Precision and F-score are ill-defined and being set to 0.0 in labels with no predicted samples. Use `zero_division` parameter to control this behavior.\n",
      "  _warn_prf(average, modifier, msg_start, len(result))\n",
      "C:\\Users\\aaron\\anaconda3\\lib\\site-packages\\sklearn\\metrics\\_classification.py:1248: UndefinedMetricWarning: Precision and F-score are ill-defined and being set to 0.0 in labels with no predicted samples. Use `zero_division` parameter to control this behavior.\n",
      "  _warn_prf(average, modifier, msg_start, len(result))\n"
     ]
    }
   ],
   "source": [
    "from sklearn.linear_model import LogisticRegression\n",
    "\n",
    "model_lr = LogisticRegression()\n",
    "\n",
    "model_lr.fit(X_train,y_train)\n",
    "y_pred = model_lr.predict(X_test)\n",
    "score = accuracy_score(y_test, y_pred)*100\n",
    "scores.append(score)\n",
    "print(\"Accuracy of  model is: \", score)\n",
    "conf_matrix = confusion_matrix(y_test,y_pred)\n",
    "report = classification_report(y_test,y_pred)\n",
    "print(\"Confusion Matrix:\\n\",conf_matrix)\n",
    "print(\"Report:\\n\",report)\n",
    "print(\"\\n==============***===============\")"
   ]
  },
  {
   "cell_type": "code",
   "execution_count": 42,
   "metadata": {},
   "outputs": [
    {
     "name": "stdout",
     "output_type": "stream",
     "text": [
      "Accuracy of  model is:  99.98989715301772\n",
      "Confusion Matrix:\n",
      " [[  100     0     0     0     1]\n",
      " [    0   105     1     0     0]\n",
      " [    0     0    23     0     0]\n",
      " [    2     1     0    29     0]\n",
      " [    0     0     0     0 49229]]\n",
      "Report:\n",
      "               precision    recall  f1-score   support\n",
      "\n",
      "           0       0.98      0.99      0.99       101\n",
      "           2       0.99      0.99      0.99       106\n",
      "           3       0.96      1.00      0.98        23\n",
      "           4       1.00      0.91      0.95        32\n",
      "           6       1.00      1.00      1.00     49229\n",
      "\n",
      "    accuracy                           1.00     49491\n",
      "   macro avg       0.99      0.98      0.98     49491\n",
      "weighted avg       1.00      1.00      1.00     49491\n",
      "\n",
      "\n",
      "==============***===============\n"
     ]
    }
   ],
   "source": [
    "from sklearn.neighbors import KNeighborsClassifier\n",
    "\n",
    "model_knn = KNeighborsClassifier(n_neighbors=3)\n",
    "\n",
    "model_knn.fit(X_train,y_train)\n",
    "y_pred = model_knn.predict(X_test)\n",
    "score = accuracy_score(y_test, y_pred)*100\n",
    "scores.append(score)\n",
    "print(\"Accuracy of  model is: \", score)\n",
    "conf_matrix = confusion_matrix(y_test,y_pred)\n",
    "report = classification_report(y_test,y_pred)\n",
    "print(\"Confusion Matrix:\\n\",conf_matrix)\n",
    "print(\"Report:\\n\",report)\n",
    "print(\"\\n==============***===============\")"
   ]
  },
  {
   "cell_type": "code",
   "execution_count": 43,
   "metadata": {},
   "outputs": [
    {
     "name": "stdout",
     "output_type": "stream",
     "text": [
      "Accuracy of  model is:  99.92928007112404\n",
      "Confusion Matrix:\n",
      " [[  100     0     0     0     1]\n",
      " [    1    97     0     0     8]\n",
      " [    0    22     0     0     1]\n",
      " [    1     0     0    30     1]\n",
      " [    0     0     0     0 49229]]\n",
      "Report:\n",
      "               precision    recall  f1-score   support\n",
      "\n",
      "           0       0.98      0.99      0.99       101\n",
      "           2       0.82      0.92      0.86       106\n",
      "           3       0.00      0.00      0.00        23\n",
      "           4       1.00      0.94      0.97        32\n",
      "           6       1.00      1.00      1.00     49229\n",
      "\n",
      "    accuracy                           1.00     49491\n",
      "   macro avg       0.76      0.77      0.76     49491\n",
      "weighted avg       1.00      1.00      1.00     49491\n",
      "\n",
      "\n",
      "==============***===============\n"
     ]
    },
    {
     "name": "stderr",
     "output_type": "stream",
     "text": [
      "C:\\Users\\aaron\\anaconda3\\lib\\site-packages\\sklearn\\metrics\\_classification.py:1248: UndefinedMetricWarning: Precision and F-score are ill-defined and being set to 0.0 in labels with no predicted samples. Use `zero_division` parameter to control this behavior.\n",
      "  _warn_prf(average, modifier, msg_start, len(result))\n",
      "C:\\Users\\aaron\\anaconda3\\lib\\site-packages\\sklearn\\metrics\\_classification.py:1248: UndefinedMetricWarning: Precision and F-score are ill-defined and being set to 0.0 in labels with no predicted samples. Use `zero_division` parameter to control this behavior.\n",
      "  _warn_prf(average, modifier, msg_start, len(result))\n",
      "C:\\Users\\aaron\\anaconda3\\lib\\site-packages\\sklearn\\metrics\\_classification.py:1248: UndefinedMetricWarning: Precision and F-score are ill-defined and being set to 0.0 in labels with no predicted samples. Use `zero_division` parameter to control this behavior.\n",
      "  _warn_prf(average, modifier, msg_start, len(result))\n"
     ]
    }
   ],
   "source": [
    "from sklearn.neural_network import MLPClassifier\n",
    "\n",
    "model_mlp = MLPClassifier(alpha=0.005)\n",
    "\n",
    "model_mlp.fit(X_train,y_train)\n",
    "y_pred = model_mlp.predict(X_test)\n",
    "score = accuracy_score(y_test, y_pred)*100\n",
    "scores.append(score)\n",
    "print(\"Accuracy of  model is: \", score)\n",
    "conf_matrix = confusion_matrix(y_test,y_pred)\n",
    "report = classification_report(y_test,y_pred)\n",
    "print(\"Confusion Matrix:\\n\",conf_matrix)\n",
    "print(\"Report:\\n\",report)\n",
    "print(\"\\n==============***===============\")"
   ]
  },
  {
   "cell_type": "code",
   "execution_count": 44,
   "metadata": {},
   "outputs": [
    {
     "name": "stdout",
     "output_type": "stream",
     "text": [
      "Accuracy of  model is:  99.99595886120709\n",
      "Confusion Matrix:\n",
      " [[  100     0     0     0     1]\n",
      " [    0   106     0     0     0]\n",
      " [    0     0    23     0     0]\n",
      " [    0     1     0    31     0]\n",
      " [    0     0     0     0 49229]]\n",
      "Report:\n",
      "               precision    recall  f1-score   support\n",
      "\n",
      "           0       1.00      0.99      1.00       101\n",
      "           2       0.99      1.00      1.00       106\n",
      "           3       1.00      1.00      1.00        23\n",
      "           4       1.00      0.97      0.98        32\n",
      "           6       1.00      1.00      1.00     49229\n",
      "\n",
      "    accuracy                           1.00     49491\n",
      "   macro avg       1.00      0.99      0.99     49491\n",
      "weighted avg       1.00      1.00      1.00     49491\n",
      "\n",
      "\n",
      "==============***===============\n"
     ]
    }
   ],
   "source": [
    "from sklearn.tree import DecisionTreeClassifier\n",
    "\n",
    "model_dt = DecisionTreeClassifier()\n",
    "\n",
    "model_dt.fit(X_train,y_train)\n",
    "y_pred = model_dt.predict(X_test)\n",
    "score = accuracy_score(y_test, y_pred)*100\n",
    "scores.append(score)\n",
    "print(\"Accuracy of  model is: \", score)\n",
    "conf_matrix = confusion_matrix(y_test,y_pred)\n",
    "report = classification_report(y_test,y_pred)\n",
    "print(\"Confusion Matrix:\\n\",conf_matrix)\n",
    "print(\"Report:\\n\",report)\n",
    "print(\"\\n==============***===============\")"
   ]
  },
  {
   "cell_type": "code",
   "execution_count": 31,
   "metadata": {
    "scrolled": true
   },
   "outputs": [
    {
     "name": "stdout",
     "output_type": "stream",
     "text": [
      "Accuracy of  model is:  99.71712028449618\n",
      "Confusion Matrix:\n",
      " [[    0   100     0     0     1]\n",
      " [    0   100     6     0     0]\n",
      " [    0     0    22     0     1]\n",
      " [    0    32     0     0     0]\n",
      " [    0     0     0     0 49229]]\n",
      "Report:\n",
      "               precision    recall  f1-score   support\n",
      "\n",
      "           0       0.00      0.00      0.00       101\n",
      "           2       0.43      0.94      0.59       106\n",
      "           3       0.79      0.96      0.86        23\n",
      "           4       0.00      0.00      0.00        32\n",
      "           6       1.00      1.00      1.00     49229\n",
      "\n",
      "    accuracy                           1.00     49491\n",
      "   macro avg       0.44      0.58      0.49     49491\n",
      "weighted avg       1.00      1.00      1.00     49491\n",
      "\n",
      "\n",
      "==============***===============\n"
     ]
    },
    {
     "name": "stderr",
     "output_type": "stream",
     "text": [
      "C:\\Users\\aaron\\anaconda3\\lib\\site-packages\\sklearn\\metrics\\_classification.py:1248: UndefinedMetricWarning: Precision and F-score are ill-defined and being set to 0.0 in labels with no predicted samples. Use `zero_division` parameter to control this behavior.\n",
      "  _warn_prf(average, modifier, msg_start, len(result))\n",
      "C:\\Users\\aaron\\anaconda3\\lib\\site-packages\\sklearn\\metrics\\_classification.py:1248: UndefinedMetricWarning: Precision and F-score are ill-defined and being set to 0.0 in labels with no predicted samples. Use `zero_division` parameter to control this behavior.\n",
      "  _warn_prf(average, modifier, msg_start, len(result))\n",
      "C:\\Users\\aaron\\anaconda3\\lib\\site-packages\\sklearn\\metrics\\_classification.py:1248: UndefinedMetricWarning: Precision and F-score are ill-defined and being set to 0.0 in labels with no predicted samples. Use `zero_division` parameter to control this behavior.\n",
      "  _warn_prf(average, modifier, msg_start, len(result))\n"
     ]
    }
   ],
   "source": [
    "from sklearn.svm import SVC\n",
    "\n",
    "model_svm = SVC()\n",
    "\n",
    "model_svm.fit(X_train,y_train)\n",
    "y_pred = model_svm.predict(X_test)\n",
    "score = accuracy_score(y_test, y_pred)*100\n",
    "scores.append(score)\n",
    "print(\"Accuracy of  model is: \", score)\n",
    "conf_matrix = confusion_matrix(y_test,y_pred)\n",
    "report = classification_report(y_test,y_pred)\n",
    "print(\"Confusion Matrix:\\n\",conf_matrix)\n",
    "print(\"Report:\\n\",report)\n",
    "print(\"\\n==============***===============\")\n"
   ]
  },
  {
   "cell_type": "code",
   "execution_count": 32,
   "metadata": {},
   "outputs": [
    {
     "data": {
      "text/plain": [
       "array([2, 3, 6])"
      ]
     },
     "execution_count": 32,
     "metadata": {},
     "output_type": "execute_result"
    }
   ],
   "source": [
    "np.unique(y_pred)"
   ]
  },
  {
   "cell_type": "code",
   "execution_count": 33,
   "metadata": {},
   "outputs": [
    {
     "name": "stdout",
     "output_type": "stream",
     "text": [
      "Accuracy of  model is:  99.75753167242529\n",
      "Confusion Matrix:\n",
      " [[   17    83     0     0     1     0]\n",
      " [    9    74     5     0     0    18]\n",
      " [    0     1    22     0     0     0]\n",
      " [    0     0     0    31     1     0]\n",
      " [    0     2     0     0 49227     0]\n",
      " [    0     0     0     0     0     0]]\n",
      "Report:\n",
      "               precision    recall  f1-score   support\n",
      "\n",
      "           0       0.65      0.17      0.27       101\n",
      "           2       0.46      0.70      0.56       106\n",
      "           3       0.81      0.96      0.88        23\n",
      "           4       1.00      0.97      0.98        32\n",
      "           6       1.00      1.00      1.00     49229\n",
      "           7       0.00      0.00      0.00         0\n",
      "\n",
      "    accuracy                           1.00     49491\n",
      "   macro avg       0.66      0.63      0.61     49491\n",
      "weighted avg       1.00      1.00      1.00     49491\n",
      "\n",
      "\n",
      "==============***===============\n"
     ]
    },
    {
     "name": "stderr",
     "output_type": "stream",
     "text": [
      "C:\\Users\\aaron\\anaconda3\\lib\\site-packages\\sklearn\\metrics\\_classification.py:1248: UndefinedMetricWarning: Recall and F-score are ill-defined and being set to 0.0 in labels with no true samples. Use `zero_division` parameter to control this behavior.\n",
      "  _warn_prf(average, modifier, msg_start, len(result))\n",
      "C:\\Users\\aaron\\anaconda3\\lib\\site-packages\\sklearn\\metrics\\_classification.py:1248: UndefinedMetricWarning: Recall and F-score are ill-defined and being set to 0.0 in labels with no true samples. Use `zero_division` parameter to control this behavior.\n",
      "  _warn_prf(average, modifier, msg_start, len(result))\n",
      "C:\\Users\\aaron\\anaconda3\\lib\\site-packages\\sklearn\\metrics\\_classification.py:1248: UndefinedMetricWarning: Recall and F-score are ill-defined and being set to 0.0 in labels with no true samples. Use `zero_division` parameter to control this behavior.\n",
      "  _warn_prf(average, modifier, msg_start, len(result))\n"
     ]
    }
   ],
   "source": [
    "from sklearn.naive_bayes import GaussianNB\n",
    "\n",
    "model_bayes = GaussianNB()\n",
    "\n",
    "model_bayes.fit(X_train,y_train)\n",
    "y_pred = model_bayes.predict(X_test)\n",
    "score = accuracy_score(y_test, y_pred)*100\n",
    "scores.append(score)\n",
    "print(\"Accuracy of  model is: \", score)\n",
    "conf_matrix = confusion_matrix(y_test,y_pred)\n",
    "report = classification_report(y_test,y_pred)\n",
    "print(\"Confusion Matrix:\\n\",conf_matrix)\n",
    "print(\"Report:\\n\",report)\n",
    "print(\"\\n==============***===============\")\n"
   ]
  },
  {
   "cell_type": "code",
   "execution_count": 34,
   "metadata": {},
   "outputs": [
    {
     "data": {
      "text/plain": [
       "array([0, 2, 3, 4, 6, 7])"
      ]
     },
     "execution_count": 34,
     "metadata": {},
     "output_type": "execute_result"
    }
   ],
   "source": [
    "np.unique(y_pred)"
   ]
  },
  {
   "cell_type": "code",
   "execution_count": 35,
   "metadata": {},
   "outputs": [
    {
     "name": "stdout",
     "output_type": "stream",
     "text": [
      "Accuracy of  model is:  99.99595886120709\n",
      "Confusion Matrix:\n",
      " [[  100     0     0     0     1]\n",
      " [    0   106     0     0     0]\n",
      " [    0     0    23     0     0]\n",
      " [    0     1     0    31     0]\n",
      " [    0     0     0     0 49229]]\n",
      "Report:\n",
      "               precision    recall  f1-score   support\n",
      "\n",
      "           0       1.00      0.99      1.00       101\n",
      "           2       0.99      1.00      1.00       106\n",
      "           3       1.00      1.00      1.00        23\n",
      "           4       1.00      0.97      0.98        32\n",
      "           6       1.00      1.00      1.00     49229\n",
      "\n",
      "    accuracy                           1.00     49491\n",
      "   macro avg       1.00      0.99      0.99     49491\n",
      "weighted avg       1.00      1.00      1.00     49491\n",
      "\n",
      "\n",
      "==============***===============\n"
     ]
    }
   ],
   "source": [
    "from sklearn.ensemble import RandomForestClassifier\n",
    "\n",
    "model_rf = RandomForestClassifier()\n",
    "\n",
    "model_rf.fit(X_train,y_train)\n",
    "y_pred = model_rf.predict(X_test)\n",
    "score = accuracy_score(y_test, y_pred)*100\n",
    "scores.append(score)\n",
    "print(\"Accuracy of  model is: \", score)\n",
    "conf_matrix = confusion_matrix(y_test,y_pred)\n",
    "report = classification_report(y_test,y_pred)\n",
    "print(\"Confusion Matrix:\\n\",conf_matrix)\n",
    "print(\"Report:\\n\",report)\n",
    "print(\"\\n==============***===============\")\n"
   ]
  },
  {
   "cell_type": "code",
   "execution_count": 36,
   "metadata": {},
   "outputs": [
    {
     "name": "stdout",
     "output_type": "stream",
     "text": [
      "\n",
      "Accuracy of  model is:  99.94342405689923\n",
      "Confusion Matrix:\n",
      " [[  100     0     0     0     1]\n",
      " [    0   105     0     0     1]\n",
      " [    0    23     0     0     0]\n",
      " [    0     0     0    32     0]\n",
      " [    0     3     0     0 49226]]\n",
      "Report:\n",
      "               precision    recall  f1-score   support\n",
      "\n",
      "           0       1.00      0.99      1.00       101\n",
      "           2       0.80      0.99      0.89       106\n",
      "           3       0.00      0.00      0.00        23\n",
      "           4       1.00      1.00      1.00        32\n",
      "           6       1.00      1.00      1.00     49229\n",
      "\n",
      "    accuracy                           1.00     49491\n",
      "   macro avg       0.76      0.80      0.78     49491\n",
      "weighted avg       1.00      1.00      1.00     49491\n",
      "\n",
      "\n",
      "==============***===============\n"
     ]
    },
    {
     "name": "stderr",
     "output_type": "stream",
     "text": [
      "C:\\Users\\aaron\\anaconda3\\lib\\site-packages\\sklearn\\metrics\\_classification.py:1248: UndefinedMetricWarning: Precision and F-score are ill-defined and being set to 0.0 in labels with no predicted samples. Use `zero_division` parameter to control this behavior.\n",
      "  _warn_prf(average, modifier, msg_start, len(result))\n",
      "C:\\Users\\aaron\\anaconda3\\lib\\site-packages\\sklearn\\metrics\\_classification.py:1248: UndefinedMetricWarning: Precision and F-score are ill-defined and being set to 0.0 in labels with no predicted samples. Use `zero_division` parameter to control this behavior.\n",
      "  _warn_prf(average, modifier, msg_start, len(result))\n",
      "C:\\Users\\aaron\\anaconda3\\lib\\site-packages\\sklearn\\metrics\\_classification.py:1248: UndefinedMetricWarning: Precision and F-score are ill-defined and being set to 0.0 in labels with no predicted samples. Use `zero_division` parameter to control this behavior.\n",
      "  _warn_prf(average, modifier, msg_start, len(result))\n"
     ]
    }
   ],
   "source": [
    "from sklearn.ensemble import AdaBoostClassifier\n",
    "\n",
    "model_adc = AdaBoostClassifier()\n",
    "\n",
    "print()\n",
    "model_adc.fit(X_train,y_train)\n",
    "y_pred = model_adc.predict(X_test)\n",
    "score = accuracy_score(y_test, y_pred)*100\n",
    "scores.append(score)\n",
    "print(\"Accuracy of  model is: \", score)\n",
    "conf_matrix = confusion_matrix(y_test,y_pred)\n",
    "report = classification_report(y_test,y_pred)\n",
    "print(\"Confusion Matrix:\\n\",conf_matrix)\n",
    "print(\"Report:\\n\",report)\n",
    "print(\"\\n==============***===============\")\n"
   ]
  },
  {
   "cell_type": "code",
   "execution_count": 37,
   "metadata": {},
   "outputs": [
    {
     "name": "stdout",
     "output_type": "stream",
     "text": [
      "\n",
      "Accuracy of  model is:  99.56557757976198\n",
      "Confusion Matrix:\n",
      " [[   15     0     0     0     1     3    82]\n",
      " [    0     2     0     0     0    12    92]\n",
      " [    0     0     1     0     0    22     0]\n",
      " [    0     0     0    31     0     0     1]\n",
      " [    0     0     0     0     0     0     0]\n",
      " [    0     2     0     0     0 49227     0]\n",
      " [    0     0     0     0     0     0     0]]\n",
      "Report:\n",
      "               precision    recall  f1-score   support\n",
      "\n",
      "           0       1.00      0.15      0.26       101\n",
      "           2       0.50      0.02      0.04       106\n",
      "           3       1.00      0.04      0.08        23\n",
      "           4       1.00      0.97      0.98        32\n",
      "           5       0.00      0.00      0.00         0\n",
      "           6       1.00      1.00      1.00     49229\n",
      "           7       0.00      0.00      0.00         0\n",
      "\n",
      "    accuracy                           1.00     49491\n",
      "   macro avg       0.64      0.31      0.34     49491\n",
      "weighted avg       1.00      1.00      1.00     49491\n",
      "\n",
      "\n",
      "==============***===============\n"
     ]
    },
    {
     "name": "stderr",
     "output_type": "stream",
     "text": [
      "C:\\Users\\aaron\\anaconda3\\lib\\site-packages\\sklearn\\metrics\\_classification.py:1248: UndefinedMetricWarning: Recall and F-score are ill-defined and being set to 0.0 in labels with no true samples. Use `zero_division` parameter to control this behavior.\n",
      "  _warn_prf(average, modifier, msg_start, len(result))\n",
      "C:\\Users\\aaron\\anaconda3\\lib\\site-packages\\sklearn\\metrics\\_classification.py:1248: UndefinedMetricWarning: Recall and F-score are ill-defined and being set to 0.0 in labels with no true samples. Use `zero_division` parameter to control this behavior.\n",
      "  _warn_prf(average, modifier, msg_start, len(result))\n",
      "C:\\Users\\aaron\\anaconda3\\lib\\site-packages\\sklearn\\metrics\\_classification.py:1248: UndefinedMetricWarning: Recall and F-score are ill-defined and being set to 0.0 in labels with no true samples. Use `zero_division` parameter to control this behavior.\n",
      "  _warn_prf(average, modifier, msg_start, len(result))\n"
     ]
    }
   ],
   "source": [
    "from sklearn.ensemble import GradientBoostingClassifier\n",
    "\n",
    "model_gb = GradientBoostingClassifier()\n",
    "\n",
    "print()\n",
    "model_gb.fit(X_train,y_train)\n",
    "y_pred = model_gb.predict(X_test)\n",
    "score = accuracy_score(y_test, y_pred)*100\n",
    "scores.append(score)\n",
    "print(\"Accuracy of  model is: \", score)\n",
    "conf_matrix = confusion_matrix(y_test,y_pred)\n",
    "report = classification_report(y_test,y_pred)\n",
    "print(\"Confusion Matrix:\\n\",conf_matrix)\n",
    "print(\"Report:\\n\",report)\n",
    "print(\"\\n==============***===============\")\n"
   ]
  },
  {
   "cell_type": "code",
   "execution_count": 38,
   "metadata": {},
   "outputs": [
    {
     "name": "stderr",
     "output_type": "stream",
     "text": [
      "C:\\Users\\aaron\\anaconda3\\lib\\site-packages\\xgboost\\sklearn.py:1224: UserWarning: The use of label encoder in XGBClassifier is deprecated and will be removed in a future release. To remove this warning, do the following: 1) Pass option use_label_encoder=False when constructing XGBClassifier object; and 2) Encode your labels (y) as integers starting with 0, i.e. 0, 1, 2, ..., [num_class - 1].\n",
      "  warnings.warn(label_encoder_deprecation_msg, UserWarning)\n"
     ]
    },
    {
     "name": "stdout",
     "output_type": "stream",
     "text": [
      "[21:43:06] WARNING: C:/Users/Administrator/workspace/xgboost-win64_release_1.5.1/src/learner.cc:1115: Starting in XGBoost 1.3.0, the default evaluation metric used with the objective 'multi:softprob' was changed from 'merror' to 'mlogloss'. Explicitly set eval_metric if you'd like to restore the old behavior.\n",
      "Accuracy of  model is:  99.99393829181064\n",
      "Confusion Matrix:\n",
      " [[  100     0     0     0     1     0]\n",
      " [    0   105     0     0     0     1]\n",
      " [    0     0    23     0     0     0]\n",
      " [    0     0     0    31     1     0]\n",
      " [    0     0     0     0 49229     0]\n",
      " [    0     0     0     0     0     0]]\n",
      "Report:\n",
      "               precision    recall  f1-score   support\n",
      "\n",
      "           0       1.00      0.99      1.00       101\n",
      "           2       1.00      0.99      1.00       106\n",
      "           3       1.00      1.00      1.00        23\n",
      "           4       1.00      0.97      0.98        32\n",
      "           6       1.00      1.00      1.00     49229\n",
      "           7       0.00      0.00      0.00         0\n",
      "\n",
      "    accuracy                           1.00     49491\n",
      "   macro avg       0.83      0.82      0.83     49491\n",
      "weighted avg       1.00      1.00      1.00     49491\n",
      "\n",
      "\n",
      "==============***===============\n"
     ]
    },
    {
     "name": "stderr",
     "output_type": "stream",
     "text": [
      "C:\\Users\\aaron\\anaconda3\\lib\\site-packages\\sklearn\\metrics\\_classification.py:1248: UndefinedMetricWarning: Recall and F-score are ill-defined and being set to 0.0 in labels with no true samples. Use `zero_division` parameter to control this behavior.\n",
      "  _warn_prf(average, modifier, msg_start, len(result))\n",
      "C:\\Users\\aaron\\anaconda3\\lib\\site-packages\\sklearn\\metrics\\_classification.py:1248: UndefinedMetricWarning: Recall and F-score are ill-defined and being set to 0.0 in labels with no true samples. Use `zero_division` parameter to control this behavior.\n",
      "  _warn_prf(average, modifier, msg_start, len(result))\n",
      "C:\\Users\\aaron\\anaconda3\\lib\\site-packages\\sklearn\\metrics\\_classification.py:1248: UndefinedMetricWarning: Recall and F-score are ill-defined and being set to 0.0 in labels with no true samples. Use `zero_division` parameter to control this behavior.\n",
      "  _warn_prf(average, modifier, msg_start, len(result))\n"
     ]
    }
   ],
   "source": [
    "from xgboost import XGBClassifier\n",
    "\n",
    "model_xgb = XGBClassifier()\n",
    "model_xgb.fit(X_train, y_train)\n",
    "\n",
    "y_pred = model_xgb.predict(X_test)\n",
    "score = accuracy_score(y_test, y_pred)*100\n",
    "scores.append(score)\n",
    "print(\"Accuracy of  model is: \", score)\n",
    "conf_matrix = confusion_matrix(y_test,y_pred)\n",
    "report = classification_report(y_test,y_pred)\n",
    "print(\"Confusion Matrix:\\n\",conf_matrix)\n",
    "print(\"Report:\\n\",report)\n",
    "print(\"\\n==============***===============\")\n"
   ]
  }
 ],
 "metadata": {
  "kernelspec": {
   "display_name": "Python 3 (ipykernel)",
   "language": "python",
   "name": "python3"
  },
  "language_info": {
   "codemirror_mode": {
    "name": "ipython",
    "version": 3
   },
   "file_extension": ".py",
   "mimetype": "text/x-python",
   "name": "python",
   "nbconvert_exporter": "python",
   "pygments_lexer": "ipython3",
   "version": "3.9.7"
  }
 },
 "nbformat": 4,
 "nbformat_minor": 2
}
